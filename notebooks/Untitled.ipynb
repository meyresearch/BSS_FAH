{
 "cells": [
  {
   "cell_type": "code",
   "execution_count": 1,
   "id": "be8524b5",
   "metadata": {},
   "outputs": [
    {
     "name": "stdout",
     "output_type": "stream",
     "text": [
      "\n",
      "==============================================================\n",
      "Sending anonymous Sire usage statistics to http://siremol.org.\n",
      "For more information, see http://siremol.org/analytics\n",
      "To disable, set the environment variable 'SIRE_DONT_PHONEHOME' to 1\n",
      "To see the information sent, set the environment variable \n",
      "SIRE_VERBOSE_PHONEHOME equal to 1. To silence this message, set\n",
      "the environment variable SIRE_SILENT_PHONEHOME to 1.\n",
      "==============================================================\n",
      "\n"
     ]
    }
   ],
   "source": [
    "import BioSimSpace as BSS"
   ]
  },
  {
   "cell_type": "code",
   "execution_count": 2,
   "id": "3cde1cea",
   "metadata": {},
   "outputs": [],
   "source": [
    "path_to_protein = \"inputs/protein/Mpro-x10959-protein.pdb\""
   ]
  },
  {
   "cell_type": "code",
   "execution_count": 6,
   "id": "359e01ed",
   "metadata": {},
   "outputs": [],
   "source": [
    "prot = BSS.IO.readPDB(path_to_protein, pdb4amber=True)[0]\n",
    "# depending on the picked forcefield nad your protein, tleap might fail. Check work_dir to see error logs.\n",
    "\n",
    "prot_p = BSS.Parameters.parameterise(prot, \"FF14SB\", work_dir='temp').getMolecule()"
   ]
  },
  {
   "cell_type": "code",
   "execution_count": null,
   "id": "4b8d3fb9",
   "metadata": {},
   "outputs": [],
   "source": []
  }
 ],
 "metadata": {
  "kernelspec": {
   "display_name": "Python 3 (ipykernel)",
   "language": "python",
   "name": "python3"
  },
  "language_info": {
   "codemirror_mode": {
    "name": "ipython",
    "version": 3
   },
   "file_extension": ".py",
   "mimetype": "text/x-python",
   "name": "python",
   "nbconvert_exporter": "python",
   "pygments_lexer": "ipython3",
   "version": "3.7.10"
  }
 },
 "nbformat": 4,
 "nbformat_minor": 5
}
